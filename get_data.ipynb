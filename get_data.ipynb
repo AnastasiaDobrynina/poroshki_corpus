{
 "cells": [
  {
   "cell_type": "markdown",
   "id": "65860f84",
   "metadata": {},
   "source": [
    "# Скачивание постов из вк"
   ]
  },
  {
   "cell_type": "code",
   "execution_count": 140,
   "id": "a0ce0c80",
   "metadata": {},
   "outputs": [],
   "source": [
    "import re\n",
    "import vk_api\n",
    "import random\n",
    "import datetime\n",
    "import time"
   ]
  },
  {
   "cell_type": "code",
   "execution_count": 146,
   "id": "4b4953f8",
   "metadata": {},
   "outputs": [],
   "source": [
    "def author_and_date_creation_extraction(authorship_string):\n",
    "    \n",
    "    creation_date_detection = ', (?P<date>[0-9][0-9][0-9][0-9])'\n",
    "    muzz_splitter = '( muzz )|( музз )|( муzzz )|( с реверансом )|( посв\\.? )'\n",
    "    user_from_id_detection = r'\\[(?P<user_id>((id)|(club))[0-9]+)\\|(?P<user_name>[^\\]]+)\\]'\n",
    "    user_from_link_detection = r'\\[(?P<user_id>https:\\/\\/vk\\.com\\/[A-Za-z\\._]+)\\|(?P<user_name>[^\\]]+)\\]'\n",
    "    \n",
    "    match = re.search(creation_date_detection, authorship_string)\n",
    "    if match != None:\n",
    "        creation_date = int(match.group('date'))\n",
    "    else:\n",
    "        creation_date = None\n",
    "    \n",
    "    match = re.search(muzz_splitter, authorship_string)\n",
    "    if match != None:\n",
    "        start = match.span()[0]\n",
    "        end = match.span()[1]\n",
    "        authors = authorship_string[:start]\n",
    "        #TODO в дальнейшем можно лемматизировать  вдохновителей (muzz), если они указаны через \"посв.\"\n",
    "        muzz_string = authorship_string[end:]\n",
    "    else:\n",
    "        authors = authorship_string\n",
    "        muzz_string = None\n",
    "\n",
    "    if re.search(user_from_id_detection, authors) != None:\n",
    "        match_iter = re.finditer(user_from_id_detection, authors)\n",
    "    else:\n",
    "        match_iter = re.finditer(user_from_link_detection, authors)\n",
    "    author_list = []\n",
    "    for match in match_iter:\n",
    "        author_id_or_link = match.group('user_id')\n",
    "        author_name = match.group('user_name')\n",
    "        author_list.append([author_id_or_link, author_name])\n",
    "\n",
    "    return [author_list, creation_date, muzz_string]"
   ]
  },
  {
   "cell_type": "code",
   "execution_count": 2,
   "id": "488acab3",
   "metadata": {},
   "outputs": [],
   "source": [
    "with open('token.txt', encoding='utf-8') as file:\n",
    "    token = file.read()"
   ]
  },
  {
   "cell_type": "code",
   "execution_count": 151,
   "id": "892cd286",
   "metadata": {},
   "outputs": [
    {
     "name": "stdout",
     "output_type": "stream",
     "text": [
      "Finished first 100 posts\n",
      "Finished first 200 posts\n",
      "Finished first 300 posts\n",
      "Finished first 400 posts\n",
      "Finished first 500 posts\n",
      "Finished first 600 posts\n",
      "Finished first 700 posts\n",
      "Finished first 800 posts\n",
      "Finished first 900 posts\n",
      "Finished first 1000 posts\n"
     ]
    }
   ],
   "source": [
    "posts = []\n",
    "for offset in range(100, 1001, 100):\n",
    "    vk = vk_api.VkApi(token=token)\n",
    "    vk_session = vk.get_api()\n",
    "    poroshok = vk_session.wall.get(owner_id = -31481258, offset = offset, count = 100)\n",
    "    for post in poroshok['items']:\n",
    "        post_id = int(post['id'])\n",
    "        date = datetime.datetime.fromtimestamp(int(post['date'])).strftime('%Y-%m-%d %H:%M:%S')\n",
    "        text_author_list = post['text'].split('©')\n",
    "        text = text_author_list[0]\n",
    "        # TODO в дальнейшем можно добавить в базу данных вдохновителей (muzz) и тоже атрибутировать их к постам\n",
    "        authors, creation_date, muzz_string = author_and_date_creation_extraction(text_author_list[1])\n",
    "        posts.append([post_id, text, date, authors, creation_date])\n",
    "    print(f\"Finished first {offset} posts\")\n",
    "    time.sleep(random.uniform(2, 10))"
   ]
  },
  {
   "cell_type": "code",
   "execution_count": 162,
   "id": "e07dee3c",
   "metadata": {},
   "outputs": [
    {
     "data": {
      "text/plain": [
       "[107059,\n",
       " 'олега очень возмущает\\nсуществование глистов\\nособенно во время строгих\\nпостов\\n',\n",
       " '2023-07-14 15:00:00',\n",
       " [['id934334', 'тры'], ['id135278152', 'Мурка']],\n",
       " None]"
      ]
     },
     "execution_count": 162,
     "metadata": {},
     "output_type": "execute_result"
    }
   ],
   "source": [
    "posts[2]"
   ]
  },
  {
   "cell_type": "markdown",
   "id": "5430a0c7",
   "metadata": {},
   "source": [
    "# Загрузка постов в БД (неактуальный вариант)"
   ]
  },
  {
   "cell_type": "code",
   "execution_count": 4,
   "id": "43abbe90",
   "metadata": {},
   "outputs": [],
   "source": [
    "import sqlite3\n",
    "import pandas as pd"
   ]
  },
  {
   "cell_type": "code",
   "execution_count": 10,
   "id": "759cce60",
   "metadata": {},
   "outputs": [],
   "source": [
    "con = sqlite3.connect('poroshki.db')\n",
    "cur = con.cursor()"
   ]
  },
  {
   "cell_type": "code",
   "execution_count": 11,
   "id": "8a80ffb1",
   "metadata": {},
   "outputs": [
    {
     "data": {
      "text/plain": [
       "<sqlite3.Cursor at 0x20b16a1ab40>"
      ]
     },
     "execution_count": 11,
     "metadata": {},
     "output_type": "execute_result"
    }
   ],
   "source": [
    "cur.execute('''DROP TABLE post;''')"
   ]
  },
  {
   "cell_type": "code",
   "execution_count": 12,
   "id": "389ebe4c",
   "metadata": {},
   "outputs": [
    {
     "data": {
      "text/plain": [
       "<sqlite3.Cursor at 0x20b16a1ab40>"
      ]
     },
     "execution_count": 12,
     "metadata": {},
     "output_type": "execute_result"
    }
   ],
   "source": [
    "cur.execute(\"\"\"\n",
    "CREATE TABLE post (\n",
    "    id INT PRIMARY KEY, \n",
    "    text TEXT, \n",
    "    date TEXT,\n",
    "    author_name TEXT\n",
    ")\n",
    "\"\"\")"
   ]
  },
  {
   "cell_type": "code",
   "execution_count": 13,
   "id": "cc872d8b",
   "metadata": {},
   "outputs": [
    {
     "data": {
      "text/plain": [
       "<sqlite3.Cursor at 0x20b16a1ab40>"
      ]
     },
     "execution_count": 13,
     "metadata": {},
     "output_type": "execute_result"
    }
   ],
   "source": [
    "cur.executemany(\"INSERT INTO post (id, text, date, author_name) VALUES (?, ?, ?, ?)\", posts)"
   ]
  },
  {
   "cell_type": "code",
   "execution_count": 14,
   "id": "7f74000e",
   "metadata": {},
   "outputs": [],
   "source": [
    "con.commit()\n",
    "con.close()"
   ]
  },
  {
   "cell_type": "code",
   "execution_count": null,
   "id": "1d8207d9",
   "metadata": {},
   "outputs": [],
   "source": [
    "# if 'attachments' != []: не берём??\n",
    "\n",
    "# post['text']\n",
    "# post['date']\n",
    "# link = f'https://vk.com/sandalporoshki?w=wall-31481258_{post['id']}'"
   ]
  }
 ],
 "metadata": {
  "kernelspec": {
   "display_name": "Python 3 (ipykernel)",
   "language": "python",
   "name": "python3"
  },
  "language_info": {
   "codemirror_mode": {
    "name": "ipython",
    "version": 3
   },
   "file_extension": ".py",
   "mimetype": "text/x-python",
   "name": "python",
   "nbconvert_exporter": "python",
   "pygments_lexer": "ipython3",
   "version": "3.10.9"
  }
 },
 "nbformat": 4,
 "nbformat_minor": 5
}
