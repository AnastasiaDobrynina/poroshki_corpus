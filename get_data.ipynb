{
 "cells": [
  {
   "cell_type": "code",
   "execution_count": 1,
   "id": "454430bc",
   "metadata": {},
   "outputs": [],
   "source": [
    "import vk_api\n",
    "import random\n",
    "import time"
   ]
  },
  {
   "cell_type": "code",
   "execution_count": 9,
   "id": "63ca382e",
   "metadata": {},
   "outputs": [
    {
     "name": "stdout",
     "output_type": "stream",
     "text": [
      "Finished first 100 posts\n",
      "Finished first 200 posts\n",
      "Finished first 300 posts\n",
      "Finished first 400 posts\n",
      "Finished first 500 posts\n",
      "Finished first 600 posts\n",
      "Finished first 700 posts\n",
      "Finished first 800 posts\n",
      "Finished first 900 posts\n",
      "Finished first 1000 posts\n"
     ]
    }
   ],
   "source": [
    "posts = []\n",
    "for offset in range(100, 1001, 100):\n",
    "    vk = vk_api.VkApi(token=\"686ffbfe686ffbfe686ffbfe0c680303e56686f686ffbfe35ec2f6c5653f9b767d8ae65\")\n",
    "    vk_session = vk.get_api()\n",
    "    poroshok = vk_session.wall.get(owner_id = -31481258, offset = offset, count = 100)\n",
    "    posts.extend(poroshok['items'])\n",
    "    print(f\"Finished first {offset} posts\")\n",
    "    time.sleep(random.uniform(2, 10))"
   ]
  },
  {
   "cell_type": "code",
   "execution_count": 13,
   "id": "698ce267",
   "metadata": {},
   "outputs": [
    {
     "data": {
      "text/plain": [
       "{'inner_type': 'wall_wallpost',\n",
       " 'comments': {'can_post': 0, 'count': 0},\n",
       " 'marked_as_ads': 0,\n",
       " 'hash': 'ndp9jmCoA5ww2IaX8A',\n",
       " 'type': 'post',\n",
       " 'attachments': [],\n",
       " 'date': 1689249600,\n",
       " 'from_id': -31481258,\n",
       " 'id': 107058,\n",
       " 'likes': {'can_like': 1,\n",
       "  'count': 112,\n",
       "  'user_likes': 0,\n",
       "  'can_publish': 1,\n",
       "  'repost_disabled': False},\n",
       " 'owner_id': -31481258,\n",
       " 'post_source': {'type': 'vk'},\n",
       " 'post_type': 'post',\n",
       " 'reposts': {'count': 12, 'user_reposted': 0},\n",
       " 'text': 'критяне смотрятся отсюда\\nкак насекомые на мхе\\nспасибо папа я прям рею\\nпрям хе\\n© [id33742928|Нестер Пим]',\n",
       " 'views': {'count': 8425}}"
      ]
     },
     "execution_count": 13,
     "metadata": {},
     "output_type": "execute_result"
    }
   ],
   "source": [
    "posts[0]"
   ]
  },
  {
   "cell_type": "code",
   "execution_count": null,
   "id": "38de54a7",
   "metadata": {},
   "outputs": [],
   "source": []
  }
 ],
 "metadata": {
  "kernelspec": {
   "display_name": "Python 3 (ipykernel)",
   "language": "python",
   "name": "python3"
  },
  "language_info": {
   "codemirror_mode": {
    "name": "ipython",
    "version": 3
   },
   "file_extension": ".py",
   "mimetype": "text/x-python",
   "name": "python",
   "nbconvert_exporter": "python",
   "pygments_lexer": "ipython3",
   "version": "3.10.9"
  }
 },
 "nbformat": 4,
 "nbformat_minor": 5
}
