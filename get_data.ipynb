{
 "cells": [
  {
   "cell_type": "code",
   "execution_count": 16,
   "id": "a0ce0c80",
   "metadata": {},
   "outputs": [],
   "source": [
    "import vk_api\n",
    "import random\n",
    "import time"
   ]
  },
  {
   "cell_type": "code",
   "execution_count": 17,
   "id": "488acab3",
   "metadata": {},
   "outputs": [],
   "source": [
    "with open('token.txt', encoding='utf-8') as file:\n",
    "    token = file.read()"
   ]
  },
  {
   "cell_type": "code",
   "execution_count": 18,
   "id": "8c9a6c89",
   "metadata": {},
   "outputs": [
    {
     "name": "stdout",
     "output_type": "stream",
     "text": [
      "Finished first 100 posts\n",
      "Finished first 200 posts\n",
      "Finished first 300 posts\n",
      "Finished first 400 posts\n",
      "Finished first 500 posts\n",
      "Finished first 600 posts\n",
      "Finished first 700 posts\n",
      "Finished first 800 posts\n",
      "Finished first 900 posts\n",
      "Finished first 1000 posts\n"
     ]
    }
   ],
   "source": [
    "posts = []\n",
    "for offset in range(100, 1001, 100):\n",
    "    vk = vk_api.VkApi(token=token)\n",
    "    vk_session = vk.get_api()\n",
    "    poroshok = vk_session.wall.get(owner_id = -31481258, offset = offset, count = 100)\n",
    "    posts.extend(poroshok['items'])\n",
    "    print(f\"Finished first {offset} posts\")\n",
    "    time.sleep(random.uniform(2, 10))"
   ]
  },
  {
   "cell_type": "code",
   "execution_count": 19,
   "id": "248f411f",
   "metadata": {},
   "outputs": [
    {
     "data": {
      "text/plain": [
       "{'inner_type': 'wall_wallpost',\n",
       " 'comments': {'can_post': 0, 'count': 0},\n",
       " 'marked_as_ads': 0,\n",
       " 'hash': 'ndp9jmCoA5ww2IaX8A',\n",
       " 'type': 'post',\n",
       " 'attachments': [],\n",
       " 'date': 1689249600,\n",
       " 'from_id': -31481258,\n",
       " 'id': 107058,\n",
       " 'likes': {'can_like': 1,\n",
       "  'count': 112,\n",
       "  'user_likes': 0,\n",
       "  'can_publish': 1,\n",
       "  'repost_disabled': False},\n",
       " 'owner_id': -31481258,\n",
       " 'post_source': {'type': 'vk'},\n",
       " 'post_type': 'post',\n",
       " 'reposts': {'count': 12, 'user_reposted': 0},\n",
       " 'text': 'критяне смотрятся отсюда\\nкак насекомые на мхе\\nспасибо папа я прям рею\\nпрям хе\\n© [id33742928|Нестер Пим]',\n",
       " 'views': {'count': 8425}}"
      ]
     },
     "execution_count": 19,
     "metadata": {},
     "output_type": "execute_result"
    }
   ],
   "source": [
    "posts[0]"
   ]
  }
 ],
 "metadata": {
  "kernelspec": {
   "display_name": "Python 3 (ipykernel)",
   "language": "python",
   "name": "python3"
  },
  "language_info": {
   "codemirror_mode": {
    "name": "ipython",
    "version": 3
   },
   "file_extension": ".py",
   "mimetype": "text/x-python",
   "name": "python",
   "nbconvert_exporter": "python",
   "pygments_lexer": "ipython3",
   "version": "3.10.9"
  }
 },
 "nbformat": 4,
 "nbformat_minor": 5
}
