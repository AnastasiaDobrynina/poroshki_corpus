{
 "cells": [
  {
   "cell_type": "markdown",
   "id": "65860f84",
   "metadata": {},
   "source": [
    "# Скачивание постов из вк"
   ]
  },
  {
   "cell_type": "code",
   "execution_count": 1,
   "id": "a0ce0c80",
   "metadata": {},
   "outputs": [],
   "source": [
    "import vk_api\n",
    "import random\n",
    "import time"
   ]
  },
  {
   "cell_type": "code",
   "execution_count": 2,
   "id": "488acab3",
   "metadata": {},
   "outputs": [],
   "source": [
    "with open('token.txt', encoding='utf-8') as file:\n",
    "    token = file.read()"
   ]
  },
  {
   "cell_type": "code",
   "execution_count": 3,
   "id": "892cd286",
   "metadata": {},
   "outputs": [
    {
     "name": "stdout",
     "output_type": "stream",
     "text": [
      "Finished first 100 posts\n",
      "Finished first 200 posts\n",
      "Finished first 300 posts\n",
      "Finished first 400 posts\n",
      "Finished first 500 posts\n",
      "Finished first 600 posts\n",
      "Finished first 700 posts\n",
      "Finished first 800 posts\n",
      "Finished first 900 posts\n",
      "Finished first 1000 posts\n"
     ]
    }
   ],
   "source": [
    "posts = []\n",
    "for offset in range(100, 1001, 100):\n",
    "    vk = vk_api.VkApi(token=token)\n",
    "    vk_session = vk.get_api()\n",
    "    poroshok = vk_session.wall.get(owner_id = -31481258, offset = offset, count = 100)\n",
    "    for post in poroshok['items']:\n",
    "        post_id = int(post['id'])\n",
    "        date = int(post['date'])\n",
    "        text_author_list = post['text'].split('©')\n",
    "        text = text_author_list[0]\n",
    "        author_name = text_author_list[1].strip()\n",
    "        posts.append([post_id, text, date, author_name])\n",
    "    print(f\"Finished first {offset} posts\")\n",
    "    time.sleep(random.uniform(2, 10))"
   ]
  },
  {
   "cell_type": "markdown",
   "id": "5430a0c7",
   "metadata": {},
   "source": [
    "# Загрузка постов в БД"
   ]
  },
  {
   "cell_type": "code",
   "execution_count": 6,
   "id": "43abbe90",
   "metadata": {},
   "outputs": [],
   "source": [
    "import sqlite3\n",
    "import pandas as pd"
   ]
  },
  {
   "cell_type": "code",
   "execution_count": 8,
   "id": "759cce60",
   "metadata": {},
   "outputs": [],
   "source": [
    "con = sqlite3.connect('poroshki.db')\n",
    "cur = con.cursor()"
   ]
  },
  {
   "cell_type": "code",
   "execution_count": 14,
   "id": "8a80ffb1",
   "metadata": {},
   "outputs": [],
   "source": [
    "# cur.execute('''DROP TABLE post;''')"
   ]
  },
  {
   "cell_type": "code",
   "execution_count": 10,
   "id": "389ebe4c",
   "metadata": {},
   "outputs": [
    {
     "data": {
      "text/plain": [
       "<sqlite3.Cursor at 0x21c5450b0c0>"
      ]
     },
     "execution_count": 10,
     "metadata": {},
     "output_type": "execute_result"
    }
   ],
   "source": [
    "cur.execute(\"\"\"\n",
    "CREATE TABLE post (\n",
    "    id INT PRIMARY KEY, \n",
    "    text TEXT, \n",
    "    date INT,\n",
    "    author_name TEXT\n",
    ")\n",
    "\"\"\")"
   ]
  },
  {
   "cell_type": "code",
   "execution_count": 11,
   "id": "cc872d8b",
   "metadata": {},
   "outputs": [
    {
     "data": {
      "text/plain": [
       "<sqlite3.Cursor at 0x21c5450b0c0>"
      ]
     },
     "execution_count": 11,
     "metadata": {},
     "output_type": "execute_result"
    }
   ],
   "source": [
    "cur.executemany(\"INSERT INTO post (id, text, date, author_name) VALUES (?, ?, ?, ?)\", posts)"
   ]
  },
  {
   "cell_type": "code",
   "execution_count": 13,
   "id": "7f74000e",
   "metadata": {},
   "outputs": [],
   "source": [
    "con.commit()\n",
    "con.close()"
   ]
  },
  {
   "cell_type": "code",
   "execution_count": null,
   "id": "1d8207d9",
   "metadata": {},
   "outputs": [],
   "source": [
    "# if 'attachments' != []: не берём??\n",
    "\n",
    "# post['text']\n",
    "# post['date']\n",
    "# link = f'https://vk.com/sandalporoshki?w=wall-31481258_{post['id']}'"
   ]
  }
 ],
 "metadata": {
  "kernelspec": {
   "display_name": "Python 3 (ipykernel)",
   "language": "python",
   "name": "python3"
  },
  "language_info": {
   "codemirror_mode": {
    "name": "ipython",
    "version": 3
   },
   "file_extension": ".py",
   "mimetype": "text/x-python",
   "name": "python",
   "nbconvert_exporter": "python",
   "pygments_lexer": "ipython3",
   "version": "3.10.9"
  }
 },
 "nbformat": 4,
 "nbformat_minor": 5
}
