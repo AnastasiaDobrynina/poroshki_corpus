{
 "cells": [
  {
   "cell_type": "code",
   "execution_count": 1,
   "metadata": {
    "colab": {
     "base_uri": "https://localhost:8080/"
    },
    "id": "SjSVKLlyjUMa",
    "outputId": "c83c4232-fe59-4ec3-bb73-9f62a31322ea"
   },
   "outputs": [
    {
     "name": "stdout",
     "output_type": "stream",
     "text": [
      "Requirement already satisfied: pymorphy2 in /usr/local/lib/python3.10/dist-packages (0.9.1)\n",
      "Requirement already satisfied: dawg-python>=0.7.1 in /usr/local/lib/python3.10/dist-packages (from pymorphy2) (0.7.2)\n",
      "Requirement already satisfied: pymorphy2-dicts-ru<3.0,>=2.4 in /usr/local/lib/python3.10/dist-packages (from pymorphy2) (2.4.417127.4579844)\n",
      "Requirement already satisfied: docopt>=0.6 in /usr/local/lib/python3.10/dist-packages (from pymorphy2) (0.6.2)\n",
      "Requirement already satisfied: vk_api in /usr/local/lib/python3.10/dist-packages (11.9.9)\n",
      "Requirement already satisfied: requests in /usr/local/lib/python3.10/dist-packages (from vk_api) (2.31.0)\n",
      "Requirement already satisfied: charset-normalizer<4,>=2 in /usr/local/lib/python3.10/dist-packages (from requests->vk_api) (3.3.0)\n",
      "Requirement already satisfied: idna<4,>=2.5 in /usr/local/lib/python3.10/dist-packages (from requests->vk_api) (3.4)\n",
      "Requirement already satisfied: urllib3<3,>=1.21.1 in /usr/local/lib/python3.10/dist-packages (from requests->vk_api) (2.0.7)\n",
      "Requirement already satisfied: certifi>=2017.4.17 in /usr/local/lib/python3.10/dist-packages (from requests->vk_api) (2023.7.22)\n"
     ]
    }
   ],
   "source": [
    "!pip install pymorphy2\n",
    "!pip install vk_api"
   ]
  },
  {
   "cell_type": "code",
   "execution_count": 1,
   "metadata": {
    "colab": {
     "base_uri": "https://localhost:8080/"
    },
    "id": "00nv38Sil4A6",
    "outputId": "c112c17e-15e4-4ed5-cd4a-5ebee2c270ce"
   },
   "outputs": [
    {
     "name": "stderr",
     "output_type": "stream",
     "text": [
      "[nltk_data] Downloading package punkt to\n",
      "[nltk_data]     C:\\Users\\ttais\\AppData\\Roaming\\nltk_data...\n",
      "[nltk_data]   Package punkt is already up-to-date!\n"
     ]
    }
   ],
   "source": [
    "import pandas as pd\n",
    "import nltk\n",
    "nltk.download('punkt')\n",
    "from pymorphy2 import MorphAnalyzer\n",
    "from nltk.tokenize import word_tokenize"
   ]
  },
  {
   "cell_type": "code",
   "execution_count": 2,
   "metadata": {
    "id": "PHGhiRAqF5TU"
   },
   "outputs": [],
   "source": [
    "import re\n",
    "import vk_api\n",
    "import random\n",
    "import datetime\n",
    "import time"
   ]
  },
  {
   "cell_type": "code",
   "execution_count": 4,
   "metadata": {
    "id": "y83Kk_41HlnL"
   },
   "outputs": [],
   "source": [
    "def author_and_date_creation_extraction(authorship_string):\n",
    "\n",
    "     # паттерны для извлечения из строки с авторством\n",
    "        # информации о дате создания (если указана), авторах и вдохновителях\n",
    "    # Пример строки с авторством: [id36264884|B0JI] muzz [id184439531|∀кын] & [id31852381|Phomiczoff], 2015\n",
    "    creation_date_detection = ', (?P<date>[0-9][0-9][0-9][0-9])'\n",
    "    muzz_splitter = '( muzz )|( музз )|( муzzz )|( с реверансом )|( посв\\.? )'\n",
    "    user_from_id_detection = r'\\[(?P<user_id>((id)|(club))[0-9]+)\\|(?P<user_name>[^\\]]+)\\]'\n",
    "    # для обработки случаев, когда ссылка на автора дана в следующем формате: [https://vk.com/olessius|oless]\n",
    "    user_from_link_detection = r'\\[(?P<user_id>https:\\/\\/vk\\.com\\/[A-Za-z\\._]+)\\|(?P<user_name>[^\\]]+)\\]'\n",
    "    \n",
    "    # извлечения даты создания\n",
    "    match = re.search(creation_date_detection, authorship_string)\n",
    "    if match != None:\n",
    "        creation_date = int(match.group('date'))\n",
    "    else:\n",
    "        creation_date = None\n",
    "        \n",
    "    # разделение строки на часть с указанием авторства и часть с указанием вдохновителей (если есть)\n",
    "    match = re.search(muzz_splitter, authorship_string)\n",
    "    if match != None:\n",
    "        start = match.span()[0]\n",
    "        end = match.span()[1]\n",
    "        authors = authorship_string[:start]\n",
    "        #TODO в дальнейшем можно лемматизировать вдохновителей (muzz), если они указаны через \"посв.\"\n",
    "        muzz_string = authorship_string[end:]\n",
    "    else:\n",
    "        authors = authorship_string\n",
    "        muzz_string = None\n",
    "\n",
    "    # извлечение псевдонимов авторов и id профилей (или ссылки на профиль)\n",
    "    if re.search(user_from_id_detection, authors) != None:\n",
    "        match_iter = re.finditer(user_from_id_detection, authors)\n",
    "    else:\n",
    "        match_iter = re.finditer(user_from_link_detection, authors)\n",
    "    author_list = []\n",
    "    for match in match_iter:\n",
    "        author_id_or_link = match.group('user_id')\n",
    "        author_name = match.group('user_name')\n",
    "        author_list.append([author_id_or_link, author_name])\n",
    "\n",
    "    return [author_list, creation_date, muzz_string]"
   ]
  },
  {
   "cell_type": "code",
   "execution_count": null,
   "metadata": {},
   "outputs": [],
   "source": [
    "with open('token.txt', encoding='utf-8') as file:\n",
    "    token = file.read()"
   ]
  },
  {
   "cell_type": "code",
   "execution_count": null,
   "metadata": {
    "id": "iLXC45XhKg1a"
   },
   "outputs": [],
   "source": [
    "token = input(\"Введите свой токен: \")"
   ]
  },
  {
   "cell_type": "code",
   "execution_count": 7,
   "metadata": {
    "colab": {
     "base_uri": "https://localhost:8080/"
    },
    "id": "RaJd2jcpJcRo",
    "outputId": "66aa22e8-9497-487f-fb5b-2a57d76cbe73"
   },
   "outputs": [
    {
     "name": "stdout",
     "output_type": "stream",
     "text": [
      "Finished first 100 posts\n",
      "Finished first 200 posts\n",
      "Finished first 300 posts\n",
      "Finished first 400 posts\n",
      "Finished first 500 posts\n",
      "Finished first 600 posts\n",
      "Finished first 700 posts\n",
      "Finished first 800 posts\n",
      "Finished first 900 posts\n",
      "Finished first 1000 posts\n"
     ]
    }
   ],
   "source": [
    "posts_id = []\n",
    "texts = []\n",
    "dates = []\n",
    "authors_all = []\n",
    "creation_dates = []\n",
    "for offset in range(100, 1001, 100):\n",
    "    vk = vk_api.VkApi(token=token)\n",
    "    vk_session = vk.get_api()\n",
    "    poroshok = vk_session.wall.get(owner_id = -31481258, offset = offset, count = 100)\n",
    "    for post in poroshok['items']:\n",
    "        post_id = int(post['id'])\n",
    "        date = datetime.datetime.fromtimestamp(int(post['date'])).strftime('%Y-%m-%d %H:%M:%S')\n",
    "        text_author_list = post['text'].split('©')\n",
    "        text = text_author_list[0]\n",
    "        # TODO в дальнейшем можно добавить в базу данных вдохновителей (muzz) и тоже атрибутировать их к постам\n",
    "        authors, creation_date, muzz_string = author_and_date_creation_extraction(text_author_list[1])\n",
    "        posts_id.append(post_id)\n",
    "        texts.append(text)\n",
    "        dates.append(date)\n",
    "        authors_all.append(authors)\n",
    "        if creation_date is None:\n",
    "          creation_dates.append(\"Unknown\")\n",
    "        else:\n",
    "          creation_dates.append(int(creation_date))\n",
    "\n",
    "    print(f\"Finished first {offset} posts\")\n",
    "    time.sleep(random.uniform(2, 10))"
   ]
  },
  {
   "cell_type": "code",
   "execution_count": 25,
   "metadata": {
    "id": "MZihjreFMKft"
   },
   "outputs": [],
   "source": [
    "df = pd.DataFrame({'text_id': posts_id, 'text': texts, 'datetime': dates,\n",
    "                   'authors': authors_all, 'year_of_creation': creation_dates})"
   ]
  },
  {
   "cell_type": "code",
   "execution_count": 26,
   "metadata": {
    "id": "beJbhAcRJgxx"
   },
   "outputs": [],
   "source": [
    "morph = MorphAnalyzer()"
   ]
  },
  {
   "cell_type": "code",
   "execution_count": 27,
   "metadata": {
    "id": "06hJ7A4kL-b0"
   },
   "outputs": [],
   "source": [
    "tags = []\n",
    "lemmas = []\n",
    "text_id = []\n",
    "tokens = []\n",
    "number_in_t = []\n",
    "authors_id = []\n",
    "authors_names = []\n",
    "auth_nm_texts = []\n",
    "for ind in df.index:\n",
    "  text_tok = word_tokenize(df['text'][ind])\n",
    "  i = 0\n",
    "  auth_nm = []\n",
    "  for token in text_tok:\n",
    "    number_in_t.append(i)\n",
    "    i += 1\n",
    "    parsed = morph.parse(token)[0]\n",
    "    tags.append(parsed.tag.POS)\n",
    "    lemmas.append(parsed.normal_form)\n",
    "    text_id.append(df['text_id'][ind])\n",
    "    tokens.append(token)\n",
    "  for item in df['authors'][ind]:\n",
    "    authors_id.append(item[0])\n",
    "    authors_names.append(item[1])\n",
    "    auth_nm.append(item[1])\n",
    "  auth_nm_texts.append(\", \".join(auth_nm))\n",
    "\n",
    "df_new = pd.DataFrame({'text_id': text_id, 'word': tokens, 'lemma': lemmas, 'tag': tags})\n",
    "authors_metadata = pd.DataFrame({'author_id': authors_id, 'author_name': authors_names})\n",
    "authors_metadata = authors_metadata.drop_duplicates(subset=['author_id'])"
   ]
  },
  {
   "cell_type": "code",
   "execution_count": 41,
   "metadata": {
    "id": "U6dkuOaQVrwu"
   },
   "outputs": [],
   "source": [
    "authors_metadata.to_csv('author_id.csv')"
   ]
  },
  {
   "cell_type": "code",
   "execution_count": 28,
   "metadata": {
    "colab": {
     "base_uri": "https://localhost:8080/",
     "height": 424
    },
    "id": "cvOhVRegMzp2",
    "outputId": "9d95874a-880f-4df5-ec9b-a9110492783f"
   },
   "outputs": [
    {
     "data": {
      "text/html": [
       "\n",
       "  <div id=\"df-5ff0688c-cd22-4019-ae6e-50ff14bd1ee1\" class=\"colab-df-container\">\n",
       "    <div>\n",
       "<style scoped>\n",
       "    .dataframe tbody tr th:only-of-type {\n",
       "        vertical-align: middle;\n",
       "    }\n",
       "\n",
       "    .dataframe tbody tr th {\n",
       "        vertical-align: top;\n",
       "    }\n",
       "\n",
       "    .dataframe thead th {\n",
       "        text-align: right;\n",
       "    }\n",
       "</style>\n",
       "<table border=\"1\" class=\"dataframe\">\n",
       "  <thead>\n",
       "    <tr style=\"text-align: right;\">\n",
       "      <th></th>\n",
       "      <th>text_id</th>\n",
       "      <th>text</th>\n",
       "      <th>datetime</th>\n",
       "      <th>authors</th>\n",
       "      <th>year_of_creation</th>\n",
       "    </tr>\n",
       "  </thead>\n",
       "  <tbody>\n",
       "    <tr>\n",
       "      <th>0</th>\n",
       "      <td>107070</td>\n",
       "      <td>узнал я дочка что драконы \\nлишь девственниц п...</td>\n",
       "      <td>2023-07-17 12:00:00</td>\n",
       "      <td>тодибо</td>\n",
       "      <td>Unknown</td>\n",
       "    </tr>\n",
       "    <tr>\n",
       "      <th>1</th>\n",
       "      <td>107061</td>\n",
       "      <td>олег орёт на весь царьгород\\nну кто теперь тут...</td>\n",
       "      <td>2023-07-16 12:00:00</td>\n",
       "      <td>FeelGood</td>\n",
       "      <td>Unknown</td>\n",
       "    </tr>\n",
       "    <tr>\n",
       "      <th>2</th>\n",
       "      <td>107060</td>\n",
       "      <td>у аристарха в манной каше\\nлежал такой огромны...</td>\n",
       "      <td>2023-07-15 12:00:00</td>\n",
       "      <td>зажатый</td>\n",
       "      <td>2017</td>\n",
       "    </tr>\n",
       "    <tr>\n",
       "      <th>3</th>\n",
       "      <td>107059</td>\n",
       "      <td>олега очень возмущает\\nсуществование глистов\\n...</td>\n",
       "      <td>2023-07-14 12:00:00</td>\n",
       "      <td>тры, Мурка</td>\n",
       "      <td>Unknown</td>\n",
       "    </tr>\n",
       "    <tr>\n",
       "      <th>4</th>\n",
       "      <td>107058</td>\n",
       "      <td>критяне смотрятся отсюда\\nкак насекомые на мхе...</td>\n",
       "      <td>2023-07-13 12:00:00</td>\n",
       "      <td>Нестер Пим</td>\n",
       "      <td>Unknown</td>\n",
       "    </tr>\n",
       "    <tr>\n",
       "      <th>...</th>\n",
       "      <td>...</td>\n",
       "      <td>...</td>\n",
       "      <td>...</td>\n",
       "      <td>...</td>\n",
       "      <td>...</td>\n",
       "    </tr>\n",
       "    <tr>\n",
       "      <th>995</th>\n",
       "      <td>104088</td>\n",
       "      <td>при виде самки уебубля\\nхудожник уголь взял и ...</td>\n",
       "      <td>2021-09-20 09:37:03</td>\n",
       "      <td>Андрей Валерьевич</td>\n",
       "      <td>Unknown</td>\n",
       "    </tr>\n",
       "    <tr>\n",
       "      <th>996</th>\n",
       "      <td>104067</td>\n",
       "      <td>аркадий топает за деньги\\nи не щадя голеностоп...</td>\n",
       "      <td>2021-09-17 06:23:31</td>\n",
       "      <td>журкова</td>\n",
       "      <td>Unknown</td>\n",
       "    </tr>\n",
       "    <tr>\n",
       "      <th>997</th>\n",
       "      <td>104057</td>\n",
       "      <td>мадам я весь пылаю страстью\\nя не мадам я мадм...</td>\n",
       "      <td>2021-09-16 10:21:57</td>\n",
       "      <td>Андрей Валерьевич</td>\n",
       "      <td>Unknown</td>\n",
       "    </tr>\n",
       "    <tr>\n",
       "      <th>998</th>\n",
       "      <td>104045</td>\n",
       "      <td>неслась офелия к обрыву\\nпытаясь милого забыть...</td>\n",
       "      <td>2021-09-13 08:44:52</td>\n",
       "      <td>света-конфета, metafola</td>\n",
       "      <td>Unknown</td>\n",
       "    </tr>\n",
       "    <tr>\n",
       "      <th>999</th>\n",
       "      <td>104038</td>\n",
       "      <td>не вижу ничего такова\\nи передёрнула плечом\\nп...</td>\n",
       "      <td>2021-09-10 09:26:50</td>\n",
       "      <td>Dzairs_Anabis</td>\n",
       "      <td>Unknown</td>\n",
       "    </tr>\n",
       "  </tbody>\n",
       "</table>\n",
       "<p>1000 rows × 5 columns</p>\n",
       "</div>\n",
       "    <div class=\"colab-df-buttons\">\n",
       "\n",
       "  <div class=\"colab-df-container\">\n",
       "    <button class=\"colab-df-convert\" onclick=\"convertToInteractive('df-5ff0688c-cd22-4019-ae6e-50ff14bd1ee1')\"\n",
       "            title=\"Convert this dataframe to an interactive table.\"\n",
       "            style=\"display:none;\">\n",
       "\n",
       "  <svg xmlns=\"http://www.w3.org/2000/svg\" height=\"24px\" viewBox=\"0 -960 960 960\">\n",
       "    <path d=\"M120-120v-720h720v720H120Zm60-500h600v-160H180v160Zm220 220h160v-160H400v160Zm0 220h160v-160H400v160ZM180-400h160v-160H180v160Zm440 0h160v-160H620v160ZM180-180h160v-160H180v160Zm440 0h160v-160H620v160Z\"/>\n",
       "  </svg>\n",
       "    </button>\n",
       "\n",
       "  <style>\n",
       "    .colab-df-container {\n",
       "      display:flex;\n",
       "      gap: 12px;\n",
       "    }\n",
       "\n",
       "    .colab-df-convert {\n",
       "      background-color: #E8F0FE;\n",
       "      border: none;\n",
       "      border-radius: 50%;\n",
       "      cursor: pointer;\n",
       "      display: none;\n",
       "      fill: #1967D2;\n",
       "      height: 32px;\n",
       "      padding: 0 0 0 0;\n",
       "      width: 32px;\n",
       "    }\n",
       "\n",
       "    .colab-df-convert:hover {\n",
       "      background-color: #E2EBFA;\n",
       "      box-shadow: 0px 1px 2px rgba(60, 64, 67, 0.3), 0px 1px 3px 1px rgba(60, 64, 67, 0.15);\n",
       "      fill: #174EA6;\n",
       "    }\n",
       "\n",
       "    .colab-df-buttons div {\n",
       "      margin-bottom: 4px;\n",
       "    }\n",
       "\n",
       "    [theme=dark] .colab-df-convert {\n",
       "      background-color: #3B4455;\n",
       "      fill: #D2E3FC;\n",
       "    }\n",
       "\n",
       "    [theme=dark] .colab-df-convert:hover {\n",
       "      background-color: #434B5C;\n",
       "      box-shadow: 0px 1px 3px 1px rgba(0, 0, 0, 0.15);\n",
       "      filter: drop-shadow(0px 1px 2px rgba(0, 0, 0, 0.3));\n",
       "      fill: #FFFFFF;\n",
       "    }\n",
       "  </style>\n",
       "\n",
       "    <script>\n",
       "      const buttonEl =\n",
       "        document.querySelector('#df-5ff0688c-cd22-4019-ae6e-50ff14bd1ee1 button.colab-df-convert');\n",
       "      buttonEl.style.display =\n",
       "        google.colab.kernel.accessAllowed ? 'block' : 'none';\n",
       "\n",
       "      async function convertToInteractive(key) {\n",
       "        const element = document.querySelector('#df-5ff0688c-cd22-4019-ae6e-50ff14bd1ee1');\n",
       "        const dataTable =\n",
       "          await google.colab.kernel.invokeFunction('convertToInteractive',\n",
       "                                                    [key], {});\n",
       "        if (!dataTable) return;\n",
       "\n",
       "        const docLinkHtml = 'Like what you see? Visit the ' +\n",
       "          '<a target=\"_blank\" href=https://colab.research.google.com/notebooks/data_table.ipynb>data table notebook</a>'\n",
       "          + ' to learn more about interactive tables.';\n",
       "        element.innerHTML = '';\n",
       "        dataTable['output_type'] = 'display_data';\n",
       "        await google.colab.output.renderOutput(dataTable, element);\n",
       "        const docLink = document.createElement('div');\n",
       "        docLink.innerHTML = docLinkHtml;\n",
       "        element.appendChild(docLink);\n",
       "      }\n",
       "    </script>\n",
       "  </div>\n",
       "\n",
       "\n",
       "<div id=\"df-f74f8820-f7cc-4ddb-9ad7-06158aac1583\">\n",
       "  <button class=\"colab-df-quickchart\" onclick=\"quickchart('df-f74f8820-f7cc-4ddb-9ad7-06158aac1583')\"\n",
       "            title=\"Suggest charts.\"\n",
       "            style=\"display:none;\">\n",
       "\n",
       "<svg xmlns=\"http://www.w3.org/2000/svg\" height=\"24px\"viewBox=\"0 0 24 24\"\n",
       "     width=\"24px\">\n",
       "    <g>\n",
       "        <path d=\"M19 3H5c-1.1 0-2 .9-2 2v14c0 1.1.9 2 2 2h14c1.1 0 2-.9 2-2V5c0-1.1-.9-2-2-2zM9 17H7v-7h2v7zm4 0h-2V7h2v10zm4 0h-2v-4h2v4z\"/>\n",
       "    </g>\n",
       "</svg>\n",
       "  </button>\n",
       "\n",
       "<style>\n",
       "  .colab-df-quickchart {\n",
       "      --bg-color: #E8F0FE;\n",
       "      --fill-color: #1967D2;\n",
       "      --hover-bg-color: #E2EBFA;\n",
       "      --hover-fill-color: #174EA6;\n",
       "      --disabled-fill-color: #AAA;\n",
       "      --disabled-bg-color: #DDD;\n",
       "  }\n",
       "\n",
       "  [theme=dark] .colab-df-quickchart {\n",
       "      --bg-color: #3B4455;\n",
       "      --fill-color: #D2E3FC;\n",
       "      --hover-bg-color: #434B5C;\n",
       "      --hover-fill-color: #FFFFFF;\n",
       "      --disabled-bg-color: #3B4455;\n",
       "      --disabled-fill-color: #666;\n",
       "  }\n",
       "\n",
       "  .colab-df-quickchart {\n",
       "    background-color: var(--bg-color);\n",
       "    border: none;\n",
       "    border-radius: 50%;\n",
       "    cursor: pointer;\n",
       "    display: none;\n",
       "    fill: var(--fill-color);\n",
       "    height: 32px;\n",
       "    padding: 0;\n",
       "    width: 32px;\n",
       "  }\n",
       "\n",
       "  .colab-df-quickchart:hover {\n",
       "    background-color: var(--hover-bg-color);\n",
       "    box-shadow: 0 1px 2px rgba(60, 64, 67, 0.3), 0 1px 3px 1px rgba(60, 64, 67, 0.15);\n",
       "    fill: var(--button-hover-fill-color);\n",
       "  }\n",
       "\n",
       "  .colab-df-quickchart-complete:disabled,\n",
       "  .colab-df-quickchart-complete:disabled:hover {\n",
       "    background-color: var(--disabled-bg-color);\n",
       "    fill: var(--disabled-fill-color);\n",
       "    box-shadow: none;\n",
       "  }\n",
       "\n",
       "  .colab-df-spinner {\n",
       "    border: 2px solid var(--fill-color);\n",
       "    border-color: transparent;\n",
       "    border-bottom-color: var(--fill-color);\n",
       "    animation:\n",
       "      spin 1s steps(1) infinite;\n",
       "  }\n",
       "\n",
       "  @keyframes spin {\n",
       "    0% {\n",
       "      border-color: transparent;\n",
       "      border-bottom-color: var(--fill-color);\n",
       "      border-left-color: var(--fill-color);\n",
       "    }\n",
       "    20% {\n",
       "      border-color: transparent;\n",
       "      border-left-color: var(--fill-color);\n",
       "      border-top-color: var(--fill-color);\n",
       "    }\n",
       "    30% {\n",
       "      border-color: transparent;\n",
       "      border-left-color: var(--fill-color);\n",
       "      border-top-color: var(--fill-color);\n",
       "      border-right-color: var(--fill-color);\n",
       "    }\n",
       "    40% {\n",
       "      border-color: transparent;\n",
       "      border-right-color: var(--fill-color);\n",
       "      border-top-color: var(--fill-color);\n",
       "    }\n",
       "    60% {\n",
       "      border-color: transparent;\n",
       "      border-right-color: var(--fill-color);\n",
       "    }\n",
       "    80% {\n",
       "      border-color: transparent;\n",
       "      border-right-color: var(--fill-color);\n",
       "      border-bottom-color: var(--fill-color);\n",
       "    }\n",
       "    90% {\n",
       "      border-color: transparent;\n",
       "      border-bottom-color: var(--fill-color);\n",
       "    }\n",
       "  }\n",
       "</style>\n",
       "\n",
       "  <script>\n",
       "    async function quickchart(key) {\n",
       "      const quickchartButtonEl =\n",
       "        document.querySelector('#' + key + ' button');\n",
       "      quickchartButtonEl.disabled = true;  // To prevent multiple clicks.\n",
       "      quickchartButtonEl.classList.add('colab-df-spinner');\n",
       "      try {\n",
       "        const charts = await google.colab.kernel.invokeFunction(\n",
       "            'suggestCharts', [key], {});\n",
       "      } catch (error) {\n",
       "        console.error('Error during call to suggestCharts:', error);\n",
       "      }\n",
       "      quickchartButtonEl.classList.remove('colab-df-spinner');\n",
       "      quickchartButtonEl.classList.add('colab-df-quickchart-complete');\n",
       "    }\n",
       "    (() => {\n",
       "      let quickchartButtonEl =\n",
       "        document.querySelector('#df-f74f8820-f7cc-4ddb-9ad7-06158aac1583 button');\n",
       "      quickchartButtonEl.style.display =\n",
       "        google.colab.kernel.accessAllowed ? 'block' : 'none';\n",
       "    })();\n",
       "  </script>\n",
       "</div>\n",
       "    </div>\n",
       "  </div>\n"
      ],
      "text/plain": [
       "     text_id                                               text  \\\n",
       "0     107070  узнал я дочка что драконы \\nлишь девственниц п...   \n",
       "1     107061  олег орёт на весь царьгород\\nну кто теперь тут...   \n",
       "2     107060  у аристарха в манной каше\\nлежал такой огромны...   \n",
       "3     107059  олега очень возмущает\\nсуществование глистов\\n...   \n",
       "4     107058  критяне смотрятся отсюда\\nкак насекомые на мхе...   \n",
       "..       ...                                                ...   \n",
       "995   104088  при виде самки уебубля\\nхудожник уголь взял и ...   \n",
       "996   104067  аркадий топает за деньги\\nи не щадя голеностоп...   \n",
       "997   104057  мадам я весь пылаю страстью\\nя не мадам я мадм...   \n",
       "998   104045  неслась офелия к обрыву\\nпытаясь милого забыть...   \n",
       "999   104038  не вижу ничего такова\\nи передёрнула плечом\\nп...   \n",
       "\n",
       "                datetime                  authors year_of_creation  \n",
       "0    2023-07-17 12:00:00                   тодибо          Unknown  \n",
       "1    2023-07-16 12:00:00                 FeelGood          Unknown  \n",
       "2    2023-07-15 12:00:00                  зажатый             2017  \n",
       "3    2023-07-14 12:00:00               тры, Мурка          Unknown  \n",
       "4    2023-07-13 12:00:00               Нестер Пим          Unknown  \n",
       "..                   ...                      ...              ...  \n",
       "995  2021-09-20 09:37:03        Андрей Валерьевич          Unknown  \n",
       "996  2021-09-17 06:23:31                  журкова          Unknown  \n",
       "997  2021-09-16 10:21:57        Андрей Валерьевич          Unknown  \n",
       "998  2021-09-13 08:44:52  света-конфета, metafola          Unknown  \n",
       "999  2021-09-10 09:26:50            Dzairs_Anabis          Unknown  \n",
       "\n",
       "[1000 rows x 5 columns]"
      ]
     },
     "execution_count": 28,
     "metadata": {},
     "output_type": "execute_result"
    }
   ],
   "source": [
    "df['authors'] = auth_nm_texts\n",
    "df"
   ]
  },
  {
   "cell_type": "code",
   "execution_count": 29,
   "metadata": {
    "id": "0_EaBCCSPqZU"
   },
   "outputs": [],
   "source": [
    "df.to_csv('text_id.csv')"
   ]
  },
  {
   "cell_type": "code",
   "execution_count": 30,
   "metadata": {
    "id": "xKMevpQDRPv7"
   },
   "outputs": [],
   "source": [
    "word_id = pd.DataFrame({'word': list(set(tokens))})\n",
    "word_id = word_id.reset_index()\n",
    "word_id = word_id.rename(columns={\"index\": \"id\"})\n",
    "word_id.to_csv('word_id.csv')"
   ]
  },
  {
   "cell_type": "code",
   "execution_count": 31,
   "metadata": {
    "id": "j8RLUG8gRYju"
   },
   "outputs": [],
   "source": [
    "lemma_id = pd.DataFrame({'lemma': list(set(lemmas))})\n",
    "lemma_id = lemma_id.reset_index()\n",
    "lemma_id = lemma_id.rename(columns={\"index\": \"id\"})\n",
    "lemma_id.to_csv('lemma_id.csv')"
   ]
  },
  {
   "cell_type": "code",
   "execution_count": 32,
   "metadata": {
    "id": "YWXqzKt1Rict"
   },
   "outputs": [],
   "source": [
    "words = []\n",
    "lemmas = []\n",
    "for word in word_id.word:\n",
    "  words.append(word)\n",
    "  lemmas.append(morph.parse(word)[0].normal_form)\n",
    "word_to_lemma = pd.DataFrame({'word': words, 'lemma': lemmas})\n",
    "word_to_lemma.to_csv('word_to_lemma.csv')"
   ]
  },
  {
   "cell_type": "code",
   "execution_count": 33,
   "metadata": {
    "id": "2f0hONyAR5_I"
   },
   "outputs": [],
   "source": [
    "word_to_lemma = word_to_lemma.merge(word_id, how='left', on='word')"
   ]
  },
  {
   "cell_type": "code",
   "execution_count": 34,
   "metadata": {
    "id": "L88j5lxNSL41"
   },
   "outputs": [],
   "source": [
    "word_to_lemma = word_to_lemma.rename(columns={\"id\": \"word_id\"})\n",
    "word_to_lemma = word_to_lemma.drop(columns=['word'])"
   ]
  },
  {
   "cell_type": "code",
   "execution_count": 35,
   "metadata": {
    "id": "9msPfJ2VSTJF"
   },
   "outputs": [],
   "source": [
    "word_to_lemma = word_to_lemma.merge(lemma_id, how='left', on='lemma')"
   ]
  },
  {
   "cell_type": "code",
   "execution_count": 36,
   "metadata": {
    "id": "IXBpPFFnSYOi"
   },
   "outputs": [],
   "source": [
    "word_to_lemma = word_to_lemma.rename(columns={\"id\": \"lemma_id\"})\n",
    "word_to_lemma = word_to_lemma.drop(columns=['lemma'])"
   ]
  },
  {
   "cell_type": "code",
   "execution_count": 37,
   "metadata": {
    "id": "ooUZwzF_Sdta"
   },
   "outputs": [],
   "source": [
    "word_to_lemma.to_csv('word_to_lemma.csv')"
   ]
  },
  {
   "cell_type": "code",
   "execution_count": 38,
   "metadata": {
    "id": "9auHSQU5RmYR"
   },
   "outputs": [],
   "source": [
    "df_new_merged = df_new.merge(word_id, how='left', on='word')"
   ]
  },
  {
   "cell_type": "code",
   "execution_count": 39,
   "metadata": {
    "id": "-zohX0m7Rsmp"
   },
   "outputs": [],
   "source": [
    "df_new_merged = df_new_merged.rename(columns={\"id\": \"word_id\"})\n",
    "df_new_merged = df_new_merged.drop(columns=['word'])"
   ]
  },
  {
   "cell_type": "code",
   "execution_count": 40,
   "metadata": {
    "id": "4FaIGjyrS8Mq"
   },
   "outputs": [],
   "source": [
    "df_new_merged['text_pos'] = number_in_t\n",
    "df_new_merged.to_csv('word_data.csv')"
   ]
  }
 ],
 "metadata": {
  "colab": {
   "provenance": []
  },
  "kernelspec": {
   "display_name": "Python 3 (ipykernel)",
   "language": "python",
   "name": "python3"
  },
  "language_info": {
   "codemirror_mode": {
    "name": "ipython",
    "version": 3
   },
   "file_extension": ".py",
   "mimetype": "text/x-python",
   "name": "python",
   "nbconvert_exporter": "python",
   "pygments_lexer": "ipython3",
   "version": "3.10.9"
  }
 },
 "nbformat": 4,
 "nbformat_minor": 1
}
